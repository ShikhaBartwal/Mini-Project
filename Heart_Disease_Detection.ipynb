{
 "cells": [
  {
   "cell_type": "markdown",
   "metadata": {},
   "source": [
    "# Import Libraries and necessary Machine Learning Algorithm"
   ]
  },
  {
   "cell_type": "code",
   "execution_count": 1,
   "metadata": {},
   "outputs": [],
   "source": [
    "import pandas as pd\n",
    "import numpy as np\n",
    "import matplotlib.pyplot as plt\n",
    "import seaborn as sns\n",
    "from sklearn.model_selection import train_test_split\n",
    "from sklearn.neighbors import KNeighborsClassifier\n",
    "from sklearn.ensemble import RandomForestClassifier\n",
    "from sklearn.preprocessing import StandardScaler"
   ]
  },
  {
   "cell_type": "markdown",
   "metadata": {},
   "source": [
    "# Import Dataset "
   ]
  },
  {
   "cell_type": "code",
   "execution_count": 2,
   "metadata": {},
   "outputs": [
    {
     "data": {
      "text/html": [
       "<div>\n",
       "<style scoped>\n",
       "    .dataframe tbody tr th:only-of-type {\n",
       "        vertical-align: middle;\n",
       "    }\n",
       "\n",
       "    .dataframe tbody tr th {\n",
       "        vertical-align: top;\n",
       "    }\n",
       "\n",
       "    .dataframe thead th {\n",
       "        text-align: right;\n",
       "    }\n",
       "</style>\n",
       "<table border=\"1\" class=\"dataframe\">\n",
       "  <thead>\n",
       "    <tr style=\"text-align: right;\">\n",
       "      <th></th>\n",
       "      <th>age</th>\n",
       "      <th>sex</th>\n",
       "      <th>cp</th>\n",
       "      <th>trestbps</th>\n",
       "      <th>chol</th>\n",
       "      <th>fbs</th>\n",
       "      <th>restecg</th>\n",
       "      <th>thalach</th>\n",
       "      <th>exang</th>\n",
       "      <th>oldpeak</th>\n",
       "      <th>slope</th>\n",
       "      <th>ca</th>\n",
       "      <th>thal</th>\n",
       "      <th>target</th>\n",
       "    </tr>\n",
       "  </thead>\n",
       "  <tbody>\n",
       "    <tr>\n",
       "      <th>0</th>\n",
       "      <td>63</td>\n",
       "      <td>1</td>\n",
       "      <td>3</td>\n",
       "      <td>145</td>\n",
       "      <td>233</td>\n",
       "      <td>1</td>\n",
       "      <td>0</td>\n",
       "      <td>150</td>\n",
       "      <td>0</td>\n",
       "      <td>2.3</td>\n",
       "      <td>0</td>\n",
       "      <td>0</td>\n",
       "      <td>1</td>\n",
       "      <td>1</td>\n",
       "    </tr>\n",
       "    <tr>\n",
       "      <th>1</th>\n",
       "      <td>37</td>\n",
       "      <td>1</td>\n",
       "      <td>2</td>\n",
       "      <td>130</td>\n",
       "      <td>250</td>\n",
       "      <td>0</td>\n",
       "      <td>1</td>\n",
       "      <td>187</td>\n",
       "      <td>0</td>\n",
       "      <td>3.5</td>\n",
       "      <td>0</td>\n",
       "      <td>0</td>\n",
       "      <td>2</td>\n",
       "      <td>1</td>\n",
       "    </tr>\n",
       "    <tr>\n",
       "      <th>2</th>\n",
       "      <td>41</td>\n",
       "      <td>0</td>\n",
       "      <td>1</td>\n",
       "      <td>130</td>\n",
       "      <td>204</td>\n",
       "      <td>0</td>\n",
       "      <td>0</td>\n",
       "      <td>172</td>\n",
       "      <td>0</td>\n",
       "      <td>1.4</td>\n",
       "      <td>2</td>\n",
       "      <td>0</td>\n",
       "      <td>2</td>\n",
       "      <td>1</td>\n",
       "    </tr>\n",
       "    <tr>\n",
       "      <th>3</th>\n",
       "      <td>56</td>\n",
       "      <td>1</td>\n",
       "      <td>1</td>\n",
       "      <td>120</td>\n",
       "      <td>236</td>\n",
       "      <td>0</td>\n",
       "      <td>1</td>\n",
       "      <td>178</td>\n",
       "      <td>0</td>\n",
       "      <td>0.8</td>\n",
       "      <td>2</td>\n",
       "      <td>0</td>\n",
       "      <td>2</td>\n",
       "      <td>1</td>\n",
       "    </tr>\n",
       "    <tr>\n",
       "      <th>4</th>\n",
       "      <td>57</td>\n",
       "      <td>0</td>\n",
       "      <td>0</td>\n",
       "      <td>120</td>\n",
       "      <td>354</td>\n",
       "      <td>0</td>\n",
       "      <td>1</td>\n",
       "      <td>163</td>\n",
       "      <td>1</td>\n",
       "      <td>0.6</td>\n",
       "      <td>2</td>\n",
       "      <td>0</td>\n",
       "      <td>2</td>\n",
       "      <td>1</td>\n",
       "    </tr>\n",
       "    <tr>\n",
       "      <th>5</th>\n",
       "      <td>57</td>\n",
       "      <td>1</td>\n",
       "      <td>0</td>\n",
       "      <td>140</td>\n",
       "      <td>192</td>\n",
       "      <td>0</td>\n",
       "      <td>1</td>\n",
       "      <td>148</td>\n",
       "      <td>0</td>\n",
       "      <td>0.4</td>\n",
       "      <td>1</td>\n",
       "      <td>0</td>\n",
       "      <td>1</td>\n",
       "      <td>1</td>\n",
       "    </tr>\n",
       "    <tr>\n",
       "      <th>6</th>\n",
       "      <td>56</td>\n",
       "      <td>0</td>\n",
       "      <td>1</td>\n",
       "      <td>140</td>\n",
       "      <td>294</td>\n",
       "      <td>0</td>\n",
       "      <td>0</td>\n",
       "      <td>153</td>\n",
       "      <td>0</td>\n",
       "      <td>1.3</td>\n",
       "      <td>1</td>\n",
       "      <td>0</td>\n",
       "      <td>2</td>\n",
       "      <td>1</td>\n",
       "    </tr>\n",
       "    <tr>\n",
       "      <th>7</th>\n",
       "      <td>44</td>\n",
       "      <td>1</td>\n",
       "      <td>1</td>\n",
       "      <td>120</td>\n",
       "      <td>263</td>\n",
       "      <td>0</td>\n",
       "      <td>1</td>\n",
       "      <td>173</td>\n",
       "      <td>0</td>\n",
       "      <td>0.0</td>\n",
       "      <td>2</td>\n",
       "      <td>0</td>\n",
       "      <td>3</td>\n",
       "      <td>1</td>\n",
       "    </tr>\n",
       "    <tr>\n",
       "      <th>8</th>\n",
       "      <td>52</td>\n",
       "      <td>1</td>\n",
       "      <td>2</td>\n",
       "      <td>172</td>\n",
       "      <td>199</td>\n",
       "      <td>1</td>\n",
       "      <td>1</td>\n",
       "      <td>162</td>\n",
       "      <td>0</td>\n",
       "      <td>0.5</td>\n",
       "      <td>2</td>\n",
       "      <td>0</td>\n",
       "      <td>3</td>\n",
       "      <td>1</td>\n",
       "    </tr>\n",
       "    <tr>\n",
       "      <th>9</th>\n",
       "      <td>57</td>\n",
       "      <td>1</td>\n",
       "      <td>2</td>\n",
       "      <td>150</td>\n",
       "      <td>168</td>\n",
       "      <td>0</td>\n",
       "      <td>1</td>\n",
       "      <td>174</td>\n",
       "      <td>0</td>\n",
       "      <td>1.6</td>\n",
       "      <td>2</td>\n",
       "      <td>0</td>\n",
       "      <td>2</td>\n",
       "      <td>1</td>\n",
       "    </tr>\n",
       "  </tbody>\n",
       "</table>\n",
       "</div>"
      ],
      "text/plain": [
       "   age  sex  cp  trestbps  chol  fbs  restecg  thalach  exang  oldpeak  slope  \\\n",
       "0   63    1   3       145   233    1        0      150      0      2.3      0   \n",
       "1   37    1   2       130   250    0        1      187      0      3.5      0   \n",
       "2   41    0   1       130   204    0        0      172      0      1.4      2   \n",
       "3   56    1   1       120   236    0        1      178      0      0.8      2   \n",
       "4   57    0   0       120   354    0        1      163      1      0.6      2   \n",
       "5   57    1   0       140   192    0        1      148      0      0.4      1   \n",
       "6   56    0   1       140   294    0        0      153      0      1.3      1   \n",
       "7   44    1   1       120   263    0        1      173      0      0.0      2   \n",
       "8   52    1   2       172   199    1        1      162      0      0.5      2   \n",
       "9   57    1   2       150   168    0        1      174      0      1.6      2   \n",
       "\n",
       "   ca  thal  target  \n",
       "0   0     1       1  \n",
       "1   0     2       1  \n",
       "2   0     2       1  \n",
       "3   0     2       1  \n",
       "4   0     2       1  \n",
       "5   0     1       1  \n",
       "6   0     2       1  \n",
       "7   0     3       1  \n",
       "8   0     3       1  \n",
       "9   0     2       1  "
      ]
     },
     "execution_count": 2,
     "metadata": {},
     "output_type": "execute_result"
    }
   ],
   "source": [
    "df=pd.read_csv(\"heart.csv\")\n",
    "df.head(10)"
   ]
  },
  {
   "cell_type": "code",
   "execution_count": 3,
   "metadata": {},
   "outputs": [
    {
     "name": "stdout",
     "output_type": "stream",
     "text": [
      "<class 'pandas.core.frame.DataFrame'>\n",
      "RangeIndex: 303 entries, 0 to 302\n",
      "Data columns (total 14 columns):\n",
      " #   Column    Non-Null Count  Dtype  \n",
      "---  ------    --------------  -----  \n",
      " 0   age       303 non-null    int64  \n",
      " 1   sex       303 non-null    int64  \n",
      " 2   cp        303 non-null    int64  \n",
      " 3   trestbps  303 non-null    int64  \n",
      " 4   chol      303 non-null    int64  \n",
      " 5   fbs       303 non-null    int64  \n",
      " 6   restecg   303 non-null    int64  \n",
      " 7   thalach   303 non-null    int64  \n",
      " 8   exang     303 non-null    int64  \n",
      " 9   oldpeak   303 non-null    float64\n",
      " 10  slope     303 non-null    int64  \n",
      " 11  ca        303 non-null    int64  \n",
      " 12  thal      303 non-null    int64  \n",
      " 13  target    303 non-null    int64  \n",
      "dtypes: float64(1), int64(13)\n",
      "memory usage: 33.3 KB\n"
     ]
    }
   ],
   "source": [
    "df.info()"
   ]
  },
  {
   "cell_type": "code",
   "execution_count": 7,
   "metadata": {},
   "outputs": [
    {
     "data": {
      "text/plain": [
       "(303, 14)"
      ]
     },
     "execution_count": 7,
     "metadata": {},
     "output_type": "execute_result"
    }
   ],
   "source": [
    "df.shape"
   ]
  },
  {
   "cell_type": "code",
   "execution_count": 5,
   "metadata": {},
   "outputs": [
    {
     "data": {
      "text/plain": [
       "0      1\n",
       "1      1\n",
       "2      1\n",
       "3      1\n",
       "4      1\n",
       "      ..\n",
       "298    0\n",
       "299    0\n",
       "300    0\n",
       "301    0\n",
       "302    0\n",
       "Name: target, Length: 303, dtype: int64"
      ]
     },
     "execution_count": 5,
     "metadata": {},
     "output_type": "execute_result"
    }
   ],
   "source": [
    "df['target']"
   ]
  },
  {
   "cell_type": "code",
   "execution_count": 6,
   "metadata": {},
   "outputs": [
    {
     "data": {
      "text/plain": [
       "target\n",
       "0    138\n",
       "1    165\n",
       "dtype: int64"
      ]
     },
     "execution_count": 6,
     "metadata": {},
     "output_type": "execute_result"
    }
   ],
   "source": [
    "df.groupby('target').size()"
   ]
  },
  {
   "cell_type": "code",
   "execution_count": 7,
   "metadata": {},
   "outputs": [
    {
     "data": {
      "text/html": [
       "<div>\n",
       "<style scoped>\n",
       "    .dataframe tbody tr th:only-of-type {\n",
       "        vertical-align: middle;\n",
       "    }\n",
       "\n",
       "    .dataframe tbody tr th {\n",
       "        vertical-align: top;\n",
       "    }\n",
       "\n",
       "    .dataframe thead th {\n",
       "        text-align: right;\n",
       "    }\n",
       "</style>\n",
       "<table border=\"1\" class=\"dataframe\">\n",
       "  <thead>\n",
       "    <tr style=\"text-align: right;\">\n",
       "      <th></th>\n",
       "      <th>age</th>\n",
       "      <th>sex</th>\n",
       "      <th>cp</th>\n",
       "      <th>trestbps</th>\n",
       "      <th>chol</th>\n",
       "      <th>fbs</th>\n",
       "      <th>restecg</th>\n",
       "      <th>thalach</th>\n",
       "      <th>exang</th>\n",
       "      <th>oldpeak</th>\n",
       "      <th>slope</th>\n",
       "      <th>ca</th>\n",
       "      <th>thal</th>\n",
       "    </tr>\n",
       "    <tr>\n",
       "      <th>target</th>\n",
       "      <th></th>\n",
       "      <th></th>\n",
       "      <th></th>\n",
       "      <th></th>\n",
       "      <th></th>\n",
       "      <th></th>\n",
       "      <th></th>\n",
       "      <th></th>\n",
       "      <th></th>\n",
       "      <th></th>\n",
       "      <th></th>\n",
       "      <th></th>\n",
       "      <th></th>\n",
       "    </tr>\n",
       "  </thead>\n",
       "  <tbody>\n",
       "    <tr>\n",
       "      <th>0</th>\n",
       "      <td>7811</td>\n",
       "      <td>114</td>\n",
       "      <td>66</td>\n",
       "      <td>18547</td>\n",
       "      <td>34650</td>\n",
       "      <td>22</td>\n",
       "      <td>62</td>\n",
       "      <td>19196</td>\n",
       "      <td>76</td>\n",
       "      <td>218.8</td>\n",
       "      <td>161</td>\n",
       "      <td>161</td>\n",
       "      <td>351</td>\n",
       "    </tr>\n",
       "    <tr>\n",
       "      <th>1</th>\n",
       "      <td>8662</td>\n",
       "      <td>93</td>\n",
       "      <td>227</td>\n",
       "      <td>21335</td>\n",
       "      <td>39968</td>\n",
       "      <td>23</td>\n",
       "      <td>98</td>\n",
       "      <td>26147</td>\n",
       "      <td>23</td>\n",
       "      <td>96.2</td>\n",
       "      <td>263</td>\n",
       "      <td>60</td>\n",
       "      <td>350</td>\n",
       "    </tr>\n",
       "  </tbody>\n",
       "</table>\n",
       "</div>"
      ],
      "text/plain": [
       "         age  sex   cp  trestbps   chol  fbs  restecg  thalach  exang  \\\n",
       "target                                                                  \n",
       "0       7811  114   66     18547  34650   22       62    19196     76   \n",
       "1       8662   93  227     21335  39968   23       98    26147     23   \n",
       "\n",
       "        oldpeak  slope   ca  thal  \n",
       "target                             \n",
       "0         218.8    161  161   351  \n",
       "1          96.2    263   60   350  "
      ]
     },
     "execution_count": 7,
     "metadata": {},
     "output_type": "execute_result"
    }
   ],
   "source": [
    "df.groupby('target').sum()"
   ]
  },
  {
   "cell_type": "code",
   "execution_count": 8,
   "metadata": {},
   "outputs": [
    {
     "data": {
      "text/html": [
       "<div>\n",
       "<style scoped>\n",
       "    .dataframe tbody tr th:only-of-type {\n",
       "        vertical-align: middle;\n",
       "    }\n",
       "\n",
       "    .dataframe tbody tr th {\n",
       "        vertical-align: top;\n",
       "    }\n",
       "\n",
       "    .dataframe thead th {\n",
       "        text-align: right;\n",
       "    }\n",
       "</style>\n",
       "<table border=\"1\" class=\"dataframe\">\n",
       "  <thead>\n",
       "    <tr style=\"text-align: right;\">\n",
       "      <th></th>\n",
       "      <th>age</th>\n",
       "      <th>sex</th>\n",
       "      <th>cp</th>\n",
       "      <th>trestbps</th>\n",
       "      <th>chol</th>\n",
       "      <th>fbs</th>\n",
       "      <th>restecg</th>\n",
       "      <th>thalach</th>\n",
       "      <th>exang</th>\n",
       "      <th>oldpeak</th>\n",
       "      <th>slope</th>\n",
       "      <th>ca</th>\n",
       "      <th>thal</th>\n",
       "      <th>target</th>\n",
       "    </tr>\n",
       "  </thead>\n",
       "  <tbody>\n",
       "    <tr>\n",
       "      <th>count</th>\n",
       "      <td>303.000000</td>\n",
       "      <td>303.000000</td>\n",
       "      <td>303.000000</td>\n",
       "      <td>303.000000</td>\n",
       "      <td>303.000000</td>\n",
       "      <td>303.000000</td>\n",
       "      <td>303.000000</td>\n",
       "      <td>303.000000</td>\n",
       "      <td>303.000000</td>\n",
       "      <td>303.000000</td>\n",
       "      <td>303.000000</td>\n",
       "      <td>303.000000</td>\n",
       "      <td>303.000000</td>\n",
       "      <td>303.000000</td>\n",
       "    </tr>\n",
       "    <tr>\n",
       "      <th>mean</th>\n",
       "      <td>54.366337</td>\n",
       "      <td>0.683168</td>\n",
       "      <td>0.966997</td>\n",
       "      <td>131.623762</td>\n",
       "      <td>246.264026</td>\n",
       "      <td>0.148515</td>\n",
       "      <td>0.528053</td>\n",
       "      <td>149.646865</td>\n",
       "      <td>0.326733</td>\n",
       "      <td>1.039604</td>\n",
       "      <td>1.399340</td>\n",
       "      <td>0.729373</td>\n",
       "      <td>2.313531</td>\n",
       "      <td>0.544554</td>\n",
       "    </tr>\n",
       "    <tr>\n",
       "      <th>std</th>\n",
       "      <td>9.082101</td>\n",
       "      <td>0.466011</td>\n",
       "      <td>1.032052</td>\n",
       "      <td>17.538143</td>\n",
       "      <td>51.830751</td>\n",
       "      <td>0.356198</td>\n",
       "      <td>0.525860</td>\n",
       "      <td>22.905161</td>\n",
       "      <td>0.469794</td>\n",
       "      <td>1.161075</td>\n",
       "      <td>0.616226</td>\n",
       "      <td>1.022606</td>\n",
       "      <td>0.612277</td>\n",
       "      <td>0.498835</td>\n",
       "    </tr>\n",
       "    <tr>\n",
       "      <th>min</th>\n",
       "      <td>29.000000</td>\n",
       "      <td>0.000000</td>\n",
       "      <td>0.000000</td>\n",
       "      <td>94.000000</td>\n",
       "      <td>126.000000</td>\n",
       "      <td>0.000000</td>\n",
       "      <td>0.000000</td>\n",
       "      <td>71.000000</td>\n",
       "      <td>0.000000</td>\n",
       "      <td>0.000000</td>\n",
       "      <td>0.000000</td>\n",
       "      <td>0.000000</td>\n",
       "      <td>0.000000</td>\n",
       "      <td>0.000000</td>\n",
       "    </tr>\n",
       "    <tr>\n",
       "      <th>25%</th>\n",
       "      <td>47.500000</td>\n",
       "      <td>0.000000</td>\n",
       "      <td>0.000000</td>\n",
       "      <td>120.000000</td>\n",
       "      <td>211.000000</td>\n",
       "      <td>0.000000</td>\n",
       "      <td>0.000000</td>\n",
       "      <td>133.500000</td>\n",
       "      <td>0.000000</td>\n",
       "      <td>0.000000</td>\n",
       "      <td>1.000000</td>\n",
       "      <td>0.000000</td>\n",
       "      <td>2.000000</td>\n",
       "      <td>0.000000</td>\n",
       "    </tr>\n",
       "    <tr>\n",
       "      <th>50%</th>\n",
       "      <td>55.000000</td>\n",
       "      <td>1.000000</td>\n",
       "      <td>1.000000</td>\n",
       "      <td>130.000000</td>\n",
       "      <td>240.000000</td>\n",
       "      <td>0.000000</td>\n",
       "      <td>1.000000</td>\n",
       "      <td>153.000000</td>\n",
       "      <td>0.000000</td>\n",
       "      <td>0.800000</td>\n",
       "      <td>1.000000</td>\n",
       "      <td>0.000000</td>\n",
       "      <td>2.000000</td>\n",
       "      <td>1.000000</td>\n",
       "    </tr>\n",
       "    <tr>\n",
       "      <th>75%</th>\n",
       "      <td>61.000000</td>\n",
       "      <td>1.000000</td>\n",
       "      <td>2.000000</td>\n",
       "      <td>140.000000</td>\n",
       "      <td>274.500000</td>\n",
       "      <td>0.000000</td>\n",
       "      <td>1.000000</td>\n",
       "      <td>166.000000</td>\n",
       "      <td>1.000000</td>\n",
       "      <td>1.600000</td>\n",
       "      <td>2.000000</td>\n",
       "      <td>1.000000</td>\n",
       "      <td>3.000000</td>\n",
       "      <td>1.000000</td>\n",
       "    </tr>\n",
       "    <tr>\n",
       "      <th>max</th>\n",
       "      <td>77.000000</td>\n",
       "      <td>1.000000</td>\n",
       "      <td>3.000000</td>\n",
       "      <td>200.000000</td>\n",
       "      <td>564.000000</td>\n",
       "      <td>1.000000</td>\n",
       "      <td>2.000000</td>\n",
       "      <td>202.000000</td>\n",
       "      <td>1.000000</td>\n",
       "      <td>6.200000</td>\n",
       "      <td>2.000000</td>\n",
       "      <td>4.000000</td>\n",
       "      <td>3.000000</td>\n",
       "      <td>1.000000</td>\n",
       "    </tr>\n",
       "  </tbody>\n",
       "</table>\n",
       "</div>"
      ],
      "text/plain": [
       "              age         sex          cp    trestbps        chol         fbs  \\\n",
       "count  303.000000  303.000000  303.000000  303.000000  303.000000  303.000000   \n",
       "mean    54.366337    0.683168    0.966997  131.623762  246.264026    0.148515   \n",
       "std      9.082101    0.466011    1.032052   17.538143   51.830751    0.356198   \n",
       "min     29.000000    0.000000    0.000000   94.000000  126.000000    0.000000   \n",
       "25%     47.500000    0.000000    0.000000  120.000000  211.000000    0.000000   \n",
       "50%     55.000000    1.000000    1.000000  130.000000  240.000000    0.000000   \n",
       "75%     61.000000    1.000000    2.000000  140.000000  274.500000    0.000000   \n",
       "max     77.000000    1.000000    3.000000  200.000000  564.000000    1.000000   \n",
       "\n",
       "          restecg     thalach       exang     oldpeak       slope          ca  \\\n",
       "count  303.000000  303.000000  303.000000  303.000000  303.000000  303.000000   \n",
       "mean     0.528053  149.646865    0.326733    1.039604    1.399340    0.729373   \n",
       "std      0.525860   22.905161    0.469794    1.161075    0.616226    1.022606   \n",
       "min      0.000000   71.000000    0.000000    0.000000    0.000000    0.000000   \n",
       "25%      0.000000  133.500000    0.000000    0.000000    1.000000    0.000000   \n",
       "50%      1.000000  153.000000    0.000000    0.800000    1.000000    0.000000   \n",
       "75%      1.000000  166.000000    1.000000    1.600000    2.000000    1.000000   \n",
       "max      2.000000  202.000000    1.000000    6.200000    2.000000    4.000000   \n",
       "\n",
       "             thal      target  \n",
       "count  303.000000  303.000000  \n",
       "mean     2.313531    0.544554  \n",
       "std      0.612277    0.498835  \n",
       "min      0.000000    0.000000  \n",
       "25%      2.000000    0.000000  \n",
       "50%      2.000000    1.000000  \n",
       "75%      3.000000    1.000000  \n",
       "max      3.000000    1.000000  "
      ]
     },
     "execution_count": 8,
     "metadata": {},
     "output_type": "execute_result"
    }
   ],
   "source": [
    "df.describe()"
   ]
  },
  {
   "cell_type": "markdown",
   "metadata": {},
   "source": [
    "# Histogram"
   ]
  },
  {
   "cell_type": "code",
   "execution_count": 9,
   "metadata": {},
   "outputs": [
    {
     "data": {
      "image/png": "[encoded data removed]",
      "text/plain": [
       "<Figure size 720x720 with 16 Axes>"
      ]
     },
     "metadata": {
      "needs_background": "light"
     },
     "output_type": "display_data"
    }
   ],
   "source": [
    "df.hist(figsize=(10,10))\n",
    "plt.show()\n"
   ]
  },
  {
   "cell_type": "markdown",
   "metadata": {},
   "source": [
    "# Bar Graph"
   ]
  },
  {
   "cell_type": "code",
   "execution_count": 13,
   "metadata": {
    "scrolled": true
   },
   "outputs": [
    {
     "data": {
      "text/plain": [
       "<matplotlib.axes._subplots.AxesSubplot at 0x1ff5899a790>"
      ]
     },
     "execution_count": 13,
     "metadata": {},
     "output_type": "execute_result"
    },
    {
     "data": {
      "image/png": "[encoded data removed]",
      "text/plain": [
       "<Figure size 432x288 with 1 Axes>"
      ]
     },
     "metadata": {
      "needs_background": "light"
     },
     "output_type": "display_data"
    }
   ],
   "source": [
    "sns.barplot(df[\"target\"],df['age'])\n"
   ]
  },
  {
   "cell_type": "code",
   "execution_count": 14,
   "metadata": {},
   "outputs": [
    {
     "data": {
      "image/png": "[encoded data removed]",
      "text/plain": [
       "<Figure size 720x576 with 4 Axes>"
      ]
     },
     "metadata": {
      "needs_background": "light"
     },
     "output_type": "display_data"
    }
   ],
   "source": [
    "plt.figure(figsize=(10,8))\n",
    "plt.subplot(221)\n",
    "sns.distplot(df[df['target']==0].age)\n",
    "plt.title('Age of patients without heart disease')\n",
    "plt.subplot(222)\n",
    "sns.distplot(df[df['target']==1].age)\n",
    "plt.title('Age of patients with heart disease')\n",
    "plt.subplot(223)\n",
    "sns.distplot(df[df['target']==0].thalach )\n",
    "plt.title('Max heart rate of patients without heart disease')\n",
    "plt.subplot(224)\n",
    "sns.distplot(df[df['target']==1].thalach )\n",
    "plt.title('Max heart rate of patients with heart disease')\n",
    "plt.show()"
   ]
  },
  {
   "cell_type": "markdown",
   "metadata": {},
   "source": [
    "# Heat Map"
   ]
  },
  {
   "cell_type": "code",
   "execution_count": 39,
   "metadata": {},
   "outputs": [
    {
     "data": {
      "text/plain": [
       "<matplotlib.axes._subplots.AxesSubplot at 0x26e32440c40>"
      ]
     },
     "execution_count": 39,
     "metadata": {},
     "output_type": "execute_result"
    },
    {
     "data": {
      "image/png": "[encoded data removed]",
      "text/plain": [
       "<Figure size 1440x720 with 2 Axes>"
      ]
     },
     "metadata": {
      "needs_background": "light"
     },
     "output_type": "display_data"
    }
   ],
   "source": [
    "plt.figure(figsize=(20,10))\n",
    "sns.heatmap(df.corr(),fmt='.1g',annot = True)"
   ]
  },
  {
   "cell_type": "markdown",
   "metadata": {},
   "source": [
    "# Data Processing"
   ]
  },
  {
   "cell_type": "code",
   "execution_count": 18,
   "metadata": {},
   "outputs": [
    {
     "data": {
      "text/html": [
       "<div>\n",
       "<style scoped>\n",
       "    .dataframe tbody tr th:only-of-type {\n",
       "        vertical-align: middle;\n",
       "    }\n",
       "\n",
       "    .dataframe tbody tr th {\n",
       "        vertical-align: top;\n",
       "    }\n",
       "\n",
       "    .dataframe thead th {\n",
       "        text-align: right;\n",
       "    }\n",
       "</style>\n",
       "<table border=\"1\" class=\"dataframe\">\n",
       "  <thead>\n",
       "    <tr style=\"text-align: right;\">\n",
       "      <th></th>\n",
       "      <th>age</th>\n",
       "      <th>sex</th>\n",
       "      <th>cp</th>\n",
       "      <th>trestbps</th>\n",
       "      <th>chol</th>\n",
       "      <th>fbs</th>\n",
       "      <th>restecg</th>\n",
       "      <th>thalach</th>\n",
       "      <th>exang</th>\n",
       "      <th>oldpeak</th>\n",
       "      <th>slope</th>\n",
       "      <th>ca</th>\n",
       "      <th>thal</th>\n",
       "    </tr>\n",
       "  </thead>\n",
       "  <tbody>\n",
       "    <tr>\n",
       "      <th>0</th>\n",
       "      <td>63</td>\n",
       "      <td>1</td>\n",
       "      <td>3</td>\n",
       "      <td>145</td>\n",
       "      <td>233</td>\n",
       "      <td>1</td>\n",
       "      <td>0</td>\n",
       "      <td>150</td>\n",
       "      <td>0</td>\n",
       "      <td>2.3</td>\n",
       "      <td>0</td>\n",
       "      <td>0</td>\n",
       "      <td>1</td>\n",
       "    </tr>\n",
       "    <tr>\n",
       "      <th>1</th>\n",
       "      <td>37</td>\n",
       "      <td>1</td>\n",
       "      <td>2</td>\n",
       "      <td>130</td>\n",
       "      <td>250</td>\n",
       "      <td>0</td>\n",
       "      <td>1</td>\n",
       "      <td>187</td>\n",
       "      <td>0</td>\n",
       "      <td>3.5</td>\n",
       "      <td>0</td>\n",
       "      <td>0</td>\n",
       "      <td>2</td>\n",
       "    </tr>\n",
       "    <tr>\n",
       "      <th>2</th>\n",
       "      <td>41</td>\n",
       "      <td>0</td>\n",
       "      <td>1</td>\n",
       "      <td>130</td>\n",
       "      <td>204</td>\n",
       "      <td>0</td>\n",
       "      <td>0</td>\n",
       "      <td>172</td>\n",
       "      <td>0</td>\n",
       "      <td>1.4</td>\n",
       "      <td>2</td>\n",
       "      <td>0</td>\n",
       "      <td>2</td>\n",
       "    </tr>\n",
       "    <tr>\n",
       "      <th>3</th>\n",
       "      <td>56</td>\n",
       "      <td>1</td>\n",
       "      <td>1</td>\n",
       "      <td>120</td>\n",
       "      <td>236</td>\n",
       "      <td>0</td>\n",
       "      <td>1</td>\n",
       "      <td>178</td>\n",
       "      <td>0</td>\n",
       "      <td>0.8</td>\n",
       "      <td>2</td>\n",
       "      <td>0</td>\n",
       "      <td>2</td>\n",
       "    </tr>\n",
       "    <tr>\n",
       "      <th>4</th>\n",
       "      <td>57</td>\n",
       "      <td>0</td>\n",
       "      <td>0</td>\n",
       "      <td>120</td>\n",
       "      <td>354</td>\n",
       "      <td>0</td>\n",
       "      <td>1</td>\n",
       "      <td>163</td>\n",
       "      <td>1</td>\n",
       "      <td>0.6</td>\n",
       "      <td>2</td>\n",
       "      <td>0</td>\n",
       "      <td>2</td>\n",
       "    </tr>\n",
       "  </tbody>\n",
       "</table>\n",
       "</div>"
      ],
      "text/plain": [
       "   age  sex  cp  trestbps  chol  fbs  restecg  thalach  exang  oldpeak  slope  \\\n",
       "0   63    1   3       145   233    1        0      150      0      2.3      0   \n",
       "1   37    1   2       130   250    0        1      187      0      3.5      0   \n",
       "2   41    0   1       130   204    0        0      172      0      1.4      2   \n",
       "3   56    1   1       120   236    0        1      178      0      0.8      2   \n",
       "4   57    0   0       120   354    0        1      163      1      0.6      2   \n",
       "\n",
       "   ca  thal  \n",
       "0   0     1  \n",
       "1   0     2  \n",
       "2   0     2  \n",
       "3   0     2  \n",
       "4   0     2  "
      ]
     },
     "execution_count": 18,
     "metadata": {},
     "output_type": "execute_result"
    }
   ],
   "source": [
    "x = df.drop(['target'],axis = 'columns')\n",
    "x.head()"
   ]
  },
  {
   "cell_type": "code",
   "execution_count": 19,
   "metadata": {},
   "outputs": [
    {
     "data": {
      "text/plain": [
       "0    1\n",
       "1    1\n",
       "2    1\n",
       "3    1\n",
       "4    1\n",
       "Name: target, dtype: int64"
      ]
     },
     "execution_count": 19,
     "metadata": {},
     "output_type": "execute_result"
    }
   ],
   "source": [
    "y=df[\"target\"]\n",
    "y.head()"
   ]
  },
  {
   "cell_type": "markdown",
   "metadata": {},
   "source": [
    "# Split the Data"
   ]
  },
  {
   "cell_type": "code",
   "execution_count": 21,
   "metadata": {},
   "outputs": [],
   "source": [
    "#75% into training data set and 25% into test data set \n",
    "x_train,x_test,y_train,y_test=train_test_split(x,y,test_size=0.25,random_state=0)"
   ]
  },
  {
   "cell_type": "markdown",
   "metadata": {},
   "source": [
    "# Feature Scaling\n"
   ]
  },
  {
   "cell_type": "code",
   "execution_count": null,
   "metadata": {},
   "outputs": [],
   "source": [
    "#scale the values in the data to be values between 0 and 1\n",
    "sc= StandardScaler()\n",
    "x_train=sc.fit_transform(x_train)\n",
    "x_test=sc.transform(x_test)"
   ]
  },
  {
   "cell_type": "code",
   "execution_count": 35,
   "metadata": {},
   "outputs": [
    {
     "data": {
      "text/plain": [
       "array([[ 1.67906782,  0.70243936, -0.91982712,  0.77497606, -1.35743293,\n",
       "        -0.42695628,  0.89174012, -1.04934923,  1.38212026,  1.22827842,\n",
       "        -2.27370441, -0.70736353,  1.12135917],\n",
       "       [ 1.01581655,  0.70243936,  1.94045721,  2.22645762, -0.380682  ,\n",
       "        -0.42695628, -0.9825655 ,  0.238927  , -0.72352604, -0.4269261 ,\n",
       "        -0.6557392 , -0.70736353,  1.12135917],\n",
       "       [ 0.46310716,  0.70243936,  1.94045721,  2.22645762,  0.74350304,\n",
       "        -0.42695628, -0.9825655 ,  0.41069717, -0.72352604, -0.757967  ,\n",
       "        -0.6557392 , -0.70736353,  1.12135917],\n",
       "       [ 0.57364904,  0.70243936, -0.91982712, -0.38620919,  0.19062515,\n",
       "        -0.42695628, -0.9825655 , -0.36226857,  1.38212026,  1.39379887,\n",
       "        -0.6557392 ,  0.25993479,  1.12135917],\n",
       "       [ 0.79473279,  0.70243936,  0.9870291 , -0.09591288, -0.30696495,\n",
       "        -0.42695628,  0.89174012, -0.14755587, -0.72352604,  0.56619661,\n",
       "        -0.6557392 ,  2.19453143,  1.12135917],\n",
       "       [-0.75285349,  0.70243936, -0.91982712, -0.44426845,  0.48549336,\n",
       "        -0.42695628, -0.9825655 ,  0.71129496, -0.72352604, -0.50968632,\n",
       "        -0.6557392 , -0.70736353,  1.12135917],\n",
       "       [-1.63718851,  0.70243936, -0.91982712, -1.25709813, -1.48643777,\n",
       "        -0.42695628, -0.9825655 , -1.52171719,  1.38212026,  0.73171706,\n",
       "        -0.6557392 , -0.70736353,  1.12135917],\n",
       "       [ 0.90527467,  0.70243936, -0.91982712, -0.09591288,  0.1169081 ,\n",
       "        -0.42695628, -0.9825655 , -0.10461333, -0.72352604,  0.23515571,\n",
       "        -0.6557392 ,  0.25993479,  1.12135917],\n",
       "       [ 0.13148153, -1.42361043, -0.91982712,  3.96823549,  0.74350304,\n",
       "         2.34216018, -0.9825655 , -0.7058089 ,  1.38212026,  2.38692158,\n",
       "        -2.27370441,  1.22723311,  1.12135917],\n",
       "       [ 0.90527467,  0.70243936, -0.91982712, -0.09591288,  1.51753207,\n",
       "         2.34216018, -0.9825655 , -0.74875145,  1.38212026,  0.56619661,\n",
       "         0.96222601,  2.19453143,  1.12135917],\n",
       "       [ 0.24202341,  0.70243936,  0.9870291 ,  1.06527237, -2.24203754,\n",
       "         2.34216018,  0.89174012,  1.01189274, -0.72352604, -0.757967  ,\n",
       "         0.96222601,  0.25993479,  1.12135917],\n",
       "       [-0.64231162, -1.42361043, -0.91982712, -0.09591288,  0.39334704,\n",
       "        -0.42695628,  0.89174012,  0.58246733, -0.72352604, -0.92348745,\n",
       "         0.96222601, -0.70736353, -0.45968761],\n",
       "       [ 1.12635843,  0.70243936, -0.91982712,  0.19438343,  0.1169081 ,\n",
       "        -0.42695628, -0.9825655 , -0.96346415, -0.72352604,  1.39379887,\n",
       "        -0.6557392 ,  0.25993479,  1.12135917],\n",
       "       [-0.64231162,  0.70243936,  0.03360099, -0.09591288,  0.33805925,\n",
       "        -0.42695628,  0.89174012,  0.92600766, -0.72352604, -0.4269261 ,\n",
       "         0.96222601, -0.70736353, -0.45968761],\n",
       "       [-0.53176974, -1.42361043,  0.9870291 , -0.6765055 , -0.5281161 ,\n",
       "        -0.42695628,  0.89174012,  0.36775463, -0.72352604,  0.40067616,\n",
       "        -0.6557392 , -0.70736353, -0.45968761],\n",
       "       [-0.42122786,  0.70243936,  0.9870291 , -1.83769075, -0.47282831,\n",
       "        -0.42695628,  0.89174012, -0.27638349,  1.38212026,  0.06963526,\n",
       "        -0.6557392 , -0.70736353, -0.45968761],\n",
       "       [-0.31068598,  0.70243936, -0.91982712, -1.37321665, -0.27010642,\n",
       "         2.34216018,  0.89174012, -0.10461333, -0.72352604, -0.84072723,\n",
       "         0.96222601,  2.19453143,  1.12135917],\n",
       "       [-0.75285349,  0.70243936,  0.9870291 , -0.44426845,  0.13533736,\n",
       "         2.34216018,  0.89174012,  1.09777783, -0.72352604, -0.92348745,\n",
       "         0.96222601,  1.22723311, -0.45968761],\n",
       "       [ 0.79473279,  0.70243936, -0.91982712, -0.6765055 ,  0.35648852,\n",
       "        -0.42695628,  0.89174012, -2.1658553 ,  1.38212026,  0.56619661,\n",
       "        -0.6557392 ,  1.22723311,  1.12135917],\n",
       "       [-1.41610476,  0.70243936,  0.9870291 , -0.6765055 , -0.14110158,\n",
       "         2.34216018,  0.89174012,  1.91368611, -0.72352604, -0.26140565,\n",
       "        -2.27370441, -0.70736353,  1.12135917],\n",
       "       [-1.41610476,  0.70243936, -0.91982712,  0.48467975, -0.39911126,\n",
       "        -0.42695628,  0.89174012,  1.22660545, -0.72352604, -0.92348745,\n",
       "         0.96222601, -0.70736353, -0.45968761],\n",
       "       [-1.74773039,  0.70243936, -0.91982712, -0.79262403, -0.5281161 ,\n",
       "        -0.42695628,  0.89174012, -0.40521112, -0.72352604,  0.06963526,\n",
       "        -0.6557392 , -0.70736353,  1.12135917],\n",
       "       [ 0.79473279,  0.70243936,  0.03360099, -0.6765055 ,  0.6144982 ,\n",
       "        -0.42695628, -0.9825655 , -1.99408514, -0.72352604,  0.23515571,\n",
       "        -0.6557392 ,  0.25993479,  1.12135917],\n",
       "       [-0.08960223,  0.70243936, -0.91982712, -1.25709813, -0.76769652,\n",
       "        -0.42695628, -0.9825655 , -1.77937243,  1.38212026, -0.92348745,\n",
       "        -0.6557392 ,  0.25993479, -0.45968761],\n",
       "       [-1.52664664,  0.70243936,  0.03360099, -1.25709813, -0.23324789,\n",
       "        -0.42695628,  0.89174012,  0.15304192, -0.72352604, -0.92348745,\n",
       "         0.96222601, -0.70736353, -0.45968761],\n",
       "       [ 0.79473279, -1.42361043,  0.9870291 , -0.09591288,  0.28277146,\n",
       "        -0.42695628,  0.89174012, -2.25174039, -0.72352604,  0.06963526,\n",
       "        -0.6557392 ,  0.25993479,  1.12135917],\n",
       "       [-0.31068598,  0.70243936, -0.91982712, -0.38620919, -0.65712094,\n",
       "        -0.42695628,  0.89174012,  0.79718004, -0.72352604, -0.0958852 ,\n",
       "         0.96222601,  1.22723311,  1.12135917],\n",
       "       [-0.97393725,  0.70243936, -0.91982712, -0.6765055 ,  0.02476178,\n",
       "        -0.42695628, -0.9825655 , -0.23344095, -0.72352604, -0.26140565,\n",
       "         0.96222601, -0.70736353,  1.12135917],\n",
       "       [-1.74773039, -1.42361043,  0.9870291 ,  0.36856122, -0.50968684,\n",
       "        -0.42695628,  0.89174012,  0.11009938, -0.72352604, -0.92348745,\n",
       "        -0.6557392 , -0.70736353, -0.45968761],\n",
       "       [-0.31068598,  0.70243936,  0.03360099,  0.13632417, -0.85984283,\n",
       "        -0.42695628,  0.89174012,  0.36775463, -0.72352604, -0.26140565,\n",
       "         0.96222601,  0.25993479, -0.45968761],\n",
       "       [ 0.57364904,  0.70243936,  0.9870291 ,  0.48467975, -1.15471104,\n",
       "        -0.42695628, -0.9825655 ,  0.238927  , -0.72352604,  1.55931932,\n",
       "        -0.6557392 , -0.70736353, -0.45968761],\n",
       "       [-1.08447913,  0.70243936, -0.91982712,  0.60079827,  1.13051755,\n",
       "        -0.42695628, -0.9825655 , -0.10461333,  1.38212026, -0.92348745,\n",
       "        -0.6557392 ,  2.19453143,  1.12135917],\n",
       "       [-1.52664664, -1.42361043,  0.03360099, -0.32814993,  1.07522977,\n",
       "        -0.42695628,  0.89174012,  0.58246733, -0.72352604, -0.92348745,\n",
       "         0.96222601, -0.70736353, -0.45968761],\n",
       "       [-0.31068598,  0.70243936,  0.9870291 ,  2.34257614, -0.89670136,\n",
       "         2.34216018,  0.89174012,  0.53952479, -0.72352604, -0.50968632,\n",
       "         0.96222601, -0.70736353,  1.12135917],\n",
       "       [-2.1898979 ,  0.70243936,  0.03360099, -0.56038698, -1.0257062 ,\n",
       "        -0.42695628,  0.89174012,  1.05483529, -0.72352604, -0.92348745,\n",
       "         0.96222601, -0.70736353, -0.45968761],\n",
       "       [ 0.46310716, -1.42361043, -0.91982712,  2.45869467,  0.02476178,\n",
       "        -0.42695628,  0.89174012, -0.27638349,  1.38212026, -0.92348745,\n",
       "        -0.6557392 , -0.70736353, -0.45968761],\n",
       "       [ 1.67906782,  0.70243936,  0.9870291 ,  1.64586499,  0.39334704,\n",
       "        -0.42695628,  0.89174012, -1.60760227,  1.38212026,  1.4765591 ,\n",
       "        -0.6557392 ,  0.25993479,  1.12135917],\n",
       "       [-1.08447913,  0.70243936,  0.03360099, -0.2120314 ,  1.11208829,\n",
       "        -0.42695628, -0.9825655 ,  0.88306512, -0.72352604, -0.92348745,\n",
       "         0.96222601, -0.70736353, -0.45968761],\n",
       "       [ 0.13148153,  0.70243936, -0.91982712, -0.38620919,  0.02476178,\n",
       "         2.34216018, -0.9825655 , -0.23344095,  1.38212026,  0.06963526,\n",
       "        -0.6557392 ,  0.25993479, -0.45968761],\n",
       "       [ 0.79473279, -1.42361043, -0.91982712,  0.48467975,  0.37491778,\n",
       "        -0.42695628, -0.9825655 ,  0.45363971, -0.72352604,  2.05588068,\n",
       "        -2.27370441,  1.22723311, -0.45968761],\n",
       "       [ 0.24202341,  0.70243936, -0.91982712,  0.48467975, -1.0257062 ,\n",
       "        -0.42695628,  0.89174012, -0.06167079, -0.72352604, -0.59244655,\n",
       "        -0.6557392 , -0.70736353, -2.0407344 ],\n",
       "       [ 0.24202341, -1.42361043, -0.91982712, -0.2120314 ,  1.01994198,\n",
       "        -0.42695628, -0.9825655 ,  0.41069717, -0.72352604, -0.92348745,\n",
       "         0.96222601,  0.25993479, -0.45968761],\n",
       "       [-0.31068598,  0.70243936,  0.9870291 ,  0.36856122, -0.45439905,\n",
       "        -0.42695628,  0.89174012,  0.84012258, -0.72352604, -0.92348745,\n",
       "         0.96222601,  3.16182975, -0.45968761],\n",
       "       [-0.86339537,  0.70243936, -0.91982712, -1.25709813,  0.50392262,\n",
       "        -0.42695628, -0.9825655 , -1.34994702,  1.38212026, -0.0958852 ,\n",
       "        -0.6557392 ,  0.25993479, -0.45968761],\n",
       "       [-0.42122786,  0.70243936,  1.94045721, -0.38620919, -0.63869168,\n",
       "        -0.42695628, -0.9825655 , -1.04934923,  1.38212026,  0.23515571,\n",
       "         0.96222601,  0.25993479, -0.45968761],\n",
       "       [ 1.67906782,  0.70243936,  0.03360099,  1.41362794, -0.04895527,\n",
       "        -0.42695628, -0.9825655 , -0.27638349, -0.72352604, -0.92348745,\n",
       "         0.96222601, -0.70736353, -0.45968761],\n",
       "       [-1.52664664,  0.70243936,  0.9870291 , -0.09591288, -0.62026241,\n",
       "        -0.42695628, -0.9825655 ,  0.79718004, -0.72352604,  0.73171706,\n",
       "        -0.6557392 , -0.70736353, -0.45968761],\n",
       "       [-0.53176974,  0.70243936,  0.9870291 ,  0.48467975, -0.27010642,\n",
       "        -0.42695628,  0.89174012,  0.58246733, -0.72352604, -0.4269261 ,\n",
       "        -0.6557392 ,  0.25993479,  1.12135917],\n",
       "       [ 0.13148153, -1.42361043, -0.91982712,  0.13632417,  2.97344384,\n",
       "        -0.42695628, -0.9825655 ,  0.0242143 ,  1.38212026,  0.64895684,\n",
       "        -0.6557392 ,  1.22723311,  1.12135917],\n",
       "       [-1.195021  ,  0.70243936,  0.03360099, -0.6765055 ,  0.28277146,\n",
       "        -0.42695628,  0.89174012,  1.01189274, -0.72352604, -0.92348745,\n",
       "         0.96222601, -0.70736353,  1.12135917],\n",
       "       [-0.31068598,  0.70243936,  0.03360099, -0.6765055 ,  1.42538576,\n",
       "        -0.42695628,  0.89174012,  0.9689502 , -0.72352604, -0.757967  ,\n",
       "         0.96222601, -0.70736353, -0.45968761],\n",
       "       [ 2.12123533, -1.42361043,  0.03360099, -0.6765055 ,  0.39334704,\n",
       "        -0.42695628, -0.9825655 , -1.2211194 ,  1.38212026, -0.757967  ,\n",
       "         0.96222601,  0.25993479, -0.45968761],\n",
       "       [-1.52664664, -1.42361043,  0.9870291 , -1.1409796 ,  0.37491778,\n",
       "        -0.42695628, -0.9825655 ,  0.9689502 ,  1.38212026, -0.92348745,\n",
       "         0.96222601, -0.70736353, -0.45968761],\n",
       "       [-1.52664664,  0.70243936,  0.03360099,  0.19438343, -0.82298431,\n",
       "        -0.42695628,  0.89174012, -0.74875145, -0.72352604, -0.92348745,\n",
       "        -0.6557392 , -0.70736353, -2.0407344 ],\n",
       "       [-1.74773039, -1.42361043,  0.9870291 , -2.18604633, -0.89670136,\n",
       "        -0.42695628,  0.89174012,  1.26954799, -0.72352604, -0.92348745,\n",
       "         0.96222601, -0.70736353, -0.45968761],\n",
       "       [-2.1898979 ,  0.70243936, -0.91982712, -0.6765055 , -0.91513062,\n",
       "        -0.42695628,  0.89174012, -0.83463653,  1.38212026,  0.40067616,\n",
       "        -0.6557392 , -0.70736353,  1.12135917],\n",
       "       [-1.195021  , -1.42361043,  0.9870291 , -0.79262403, -0.10424305,\n",
       "        -0.42695628,  0.89174012, -0.01872824, -0.72352604, -0.67520678,\n",
       "        -0.6557392 ,  0.25993479, -0.45968761],\n",
       "       [ 0.24202341, -1.42361043,  0.03360099, -0.09591288, -0.21481863,\n",
       "        -0.42695628, -0.9825655 ,  1.05483529, -0.72352604, -0.92348745,\n",
       "        -0.6557392 ,  0.25993479, -0.45968761],\n",
       "       [ 0.46310716,  0.70243936,  0.9870291 ,  1.06527237, -0.65712094,\n",
       "         2.34216018,  0.89174012,  0.32481208, -0.72352604,  0.40067616,\n",
       "         0.96222601, -0.70736353, -0.45968761],\n",
       "       [-0.53176974, -1.42361043,  0.03360099, -0.6765055 , -0.06738453,\n",
       "        -0.42695628,  0.89174012,  0.53952479, -0.72352604, -0.01312497,\n",
       "         0.96222601, -0.70736353, -0.45968761],\n",
       "       [ 0.35256528, -1.42361043, -0.91982712, -1.83769075,  0.00633252,\n",
       "        -0.42695628, -0.9825655 , -1.17817686, -0.72352604, -0.0958852 ,\n",
       "        -0.6557392 , -0.70736353, -0.45968761],\n",
       "       [-1.30556288, -1.42361043,  0.9870291 , -0.56038698, -0.63869168,\n",
       "        -0.42695628,  0.89174012,  0.66835241, -0.72352604, -0.757967  ,\n",
       "        -0.6557392 , -0.70736353, -0.45968761],\n",
       "       [ 1.23690031, -1.42361043,  0.9870291 ,  0.83303532,  0.55921041,\n",
       "        -0.42695628, -0.9825655 ,  0.11009938, -0.72352604, -0.92348745,\n",
       "        -0.6557392 ,  0.25993479, -0.45968761],\n",
       "       [ 0.35256528,  0.70243936,  0.9870291 ,  0.48467975, -0.6755502 ,\n",
       "         2.34216018, -0.9825655 ,  0.66835241, -0.72352604, -0.92348745,\n",
       "         0.96222601, -0.70736353, -0.45968761],\n",
       "       [ 0.90527467, -1.42361043, -0.91982712, -0.44426845, -0.93355988,\n",
       "        -0.42695628,  0.89174012, -0.57698128,  1.38212026, -0.92348745,\n",
       "        -0.6557392 , -0.70736353, -0.45968761],\n",
       "       [ 0.24202341,  0.70243936,  0.03360099,  1.29750942, -0.28853568,\n",
       "        -0.42695628, -0.9825655 ,  0.62540987, -0.72352604, -0.92348745,\n",
       "         0.96222601,  0.25993479, -0.45968761],\n",
       "       [ 0.46310716,  0.70243936,  1.94045721,  0.13632417, -0.80455504,\n",
       "        -0.42695628,  0.89174012,  0.53952479, -0.72352604, -0.26140565,\n",
       "         0.96222601,  1.22723311, -0.45968761],\n",
       "       [ 0.35256528,  0.70243936, -0.91982712, -0.38620919,  0.96465419,\n",
       "        -0.42695628, -0.9825655 ,  0.92600766, -0.72352604, -0.92348745,\n",
       "         0.96222601,  1.22723311,  1.12135917],\n",
       "       [-0.86339537,  0.70243936, -0.91982712, -1.1409796 , -0.80455504,\n",
       "        -0.42695628,  0.89174012, -0.27638349, -0.72352604, -0.84072723,\n",
       "         0.96222601, -0.70736353, -0.45968761],\n",
       "       [-0.42122786,  0.70243936, -0.91982712,  0.48467975,  0.24591294,\n",
       "        -0.42695628, -0.9825655 ,  1.57014578,  1.38212026, -0.92348745,\n",
       "         0.96222601, -0.70736353, -0.45968761],\n",
       "       [ 0.46310716,  0.70243936, -0.91982712,  0.19438343, -0.25167716,\n",
       "        -0.42695628,  0.89174012,  0.49658225, -0.72352604, -0.50968632,\n",
       "        -0.6557392 , -0.70736353,  1.12135917],\n",
       "       [-1.195021  ,  0.70243936,  0.9870291 ,  0.48467975, -0.23324789,\n",
       "        -0.42695628, -0.9825655 ,  1.31249053, -0.72352604, -0.92348745,\n",
       "         0.96222601, -0.70736353, -0.45968761],\n",
       "       [ 0.13148153,  0.70243936,  0.03360099, -0.6765055 , -0.14110158,\n",
       "        -0.42695628,  0.89174012,  0.84012258, -0.72352604, -0.92348745,\n",
       "        -2.27370441, -0.70736353, -0.45968761],\n",
       "       [ 0.02093965,  0.70243936, -0.91982712,  1.64586499,  0.7619323 ,\n",
       "        -0.42695628, -0.9825655 , -0.19049841,  1.38212026, -0.26140565,\n",
       "        -0.6557392 ,  0.25993479,  1.12135917],\n",
       "       [ 1.12635843, -1.42361043, -0.91982712,  1.06527237, -0.41754052,\n",
       "        -0.42695628, -0.9825655 , -1.52171719, -0.72352604, -0.0958852 ,\n",
       "        -0.6557392 ,  2.19453143,  1.12135917],\n",
       "       [-0.42122786,  0.70243936,  0.9870291 , -1.25709813, -1.33900366,\n",
       "        -0.42695628,  0.89174012, -1.13523432, -0.72352604, -0.4269261 ,\n",
       "         0.96222601, -0.70736353, -0.45968761]])"
      ]
     },
     "execution_count": 35,
     "metadata": {},
     "output_type": "execute_result"
    }
   ],
   "source": [
    "x_test\n"
   ]
  },
  {
   "cell_type": "code",
   "execution_count": 24,
   "metadata": {},
   "outputs": [
    {
     "name": "stdout",
     "output_type": "stream",
     "text": [
      "Length of x_train= 227\n",
      "Length of y_train= 227\n",
      "Length of x_test= 76\n",
      "Length of y_test= 76\n"
     ]
    }
   ],
   "source": [
    "print('Length of x_train=',len(x_train))\n",
    "print('Length of y_train=',len(y_train))\n",
    "print('Length of x_test=',len(x_test))\n",
    "print('Length of y_test=',len(y_test))\n"
   ]
  },
  {
   "cell_type": "markdown",
   "metadata": {},
   "source": [
    "# Random Forest"
   ]
  },
  {
   "cell_type": "code",
   "execution_count": 25,
   "metadata": {},
   "outputs": [
    {
     "data": {
      "text/plain": [
       "0.986784140969163"
      ]
     },
     "execution_count": 25,
     "metadata": {},
     "output_type": "execute_result"
    }
   ],
   "source": [
    "model1=RandomForestClassifier(n_estimators=10, criterion='entropy',random_state =0)\n",
    "#traning our data\n",
    "model1.fit(x_train,y_train)\n",
    "#Model accuracy on the training data set\n",
    "model1.score(x_train,y_train)"
   ]
  },
  {
   "cell_type": "code",
   "execution_count": 29,
   "metadata": {},
   "outputs": [
    {
     "name": "stdout",
     "output_type": "stream",
     "text": [
      "[[24  9]\n",
      " [ 4 39]]\n",
      "Model test accuracy=0.8289473684210527\n"
     ]
    }
   ],
   "source": [
    "#Model accuracy on the test data set\n",
    "from sklearn.metrics import confusion_matrix\n",
    "CM=confusion_matrix(y_test,model1.predict(x_test))\n",
    "TN=CM[0][0]\n",
    "TP=CM[1][1]\n",
    "FN=CM[1][0]\n",
    "FP=CM[0][1]\n",
    "#print the confusion matrix\n",
    "print(CM)\n",
    "\n",
    "#print the model accuracy on test dataset\n",
    "print('Model test accuracy={}'.format((TP+TN)/(TP+TN+FN+FP)))"
   ]
  },
  {
   "cell_type": "markdown",
   "metadata": {},
   "source": [
    "# KNN"
   ]
  },
  {
   "cell_type": "code",
   "execution_count": 30,
   "metadata": {},
   "outputs": [
    {
     "data": {
      "text/plain": [
       "0.8546255506607929"
      ]
     },
     "execution_count": 30,
     "metadata": {},
     "output_type": "execute_result"
    }
   ],
   "source": [
    "model2=KNeighborsClassifier(n_neighbors=10)\n",
    "model2.fit(x_train,y_train)\n",
    "#print the model accuracy on train dataset\n",
    "model2.score(x_train,y_train)"
   ]
  },
  {
   "cell_type": "code",
   "execution_count": 31,
   "metadata": {},
   "outputs": [
    {
     "data": {
      "text/plain": [
       "0.8552631578947368"
      ]
     },
     "execution_count": 31,
     "metadata": {},
     "output_type": "execute_result"
    }
   ],
   "source": [
    "#print the model accuracy on test dataset\n",
    "model2.score(x_test,y_test)"
   ]
  },
  {
   "cell_type": "code",
   "execution_count": 32,
   "metadata": {},
   "outputs": [],
   "source": [
    "#KNN\n",
    "knn_scores = []\n",
    "for k in range(1,21):\n",
    "    knn_classifier = KNeighborsClassifier(n_neighbors = k)\n",
    "    knn_classifier.fit(x_train, y_train)\n",
    "    knn_scores.append(knn_classifier.score(x_test, y_test))"
   ]
  },
  {
   "cell_type": "code",
   "execution_count": 34,
   "metadata": {},
   "outputs": [
    {
     "data": {
      "text/plain": [
       "Text(0.5, 1.0, 'K Neighbors Classifier scores for different K values')"
      ]
     },
     "execution_count": 34,
     "metadata": {},
     "output_type": "execute_result"
    },
    {
     "data": {
      "image/png": "[encoded data removed]",
      "text/plain": [
       "<Figure size 432x288 with 1 Axes>"
      ]
     },
     "metadata": {
      "needs_background": "light"
     },
     "output_type": "display_data"
    }
   ],
   "source": [
    "plt.plot([k for k in range(1, 21)], knn_scores, color = 'red')\n",
    "for i in range(1,21):\n",
    "    plt.text(i, knn_scores[i-1], (i, knn_scores[i-1]))\n",
    "plt.xticks([i for i in range(1, 21)])\n",
    "plt.xlabel('Number of Neighbors (K)')\n",
    "plt.ylabel('Scores')\n",
    "plt.title('K Neighbors Classifier scores for different K values')\n"
   ]
  }
 ],
 "metadata": {
  "kernelspec": {
   "display_name": "Python 3",
   "language": "python",
   "name": "python3"
  },
  "language_info": {
   "codemirror_mode": {
    "name": "ipython",
    "version": 3
   },
   "file_extension": ".py",
   "mimetype": "text/x-python",
   "name": "python",
   "nbconvert_exporter": "python",
   "pygments_lexer": "ipython3",
   "version": "3.8.3"
  }
 },
 "nbformat": 4,
 "nbformat_minor": 4
}
